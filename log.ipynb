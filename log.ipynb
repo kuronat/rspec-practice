{
 "cells": [
  {
   "cell_type": "markdown",
   "metadata": {},
   "source": [
    "# RSpec入門\n",
    "* Railsとは関係なく、RSpecそのものについて学ぶ\n",
    "* RSpec自体はRailsとは独立して使うことができる\n",
    "* 関係ないけどJupyter便利(bashカーネルを入れた)"
   ]
  },
  {
   "cell_type": "code",
   "execution_count": 2,
   "metadata": {},
   "outputs": [
    {
     "name": "stdout",
     "output_type": "stream",
     "text": [
      "Successfully installed rspec-3.6.0\n",
      "Parsing documentation for rspec-3.6.0\n",
      "Done installing documentation for rspec after 0 seconds\n",
      "1 gem installed\n"
     ]
    }
   ],
   "source": [
    "gem i rspec"
   ]
  },
  {
   "cell_type": "markdown",
   "metadata": {},
   "source": [
    "## 最初のテスト"
   ]
  },
  {
   "cell_type": "code",
   "execution_count": 3,
   "metadata": {
    "scrolled": true
   },
   "outputs": [
    {
     "name": "stdout",
     "output_type": "stream",
     "text": [
      "class Kuronat\n",
      "  def name\n",
      "    \"くろなつ\"\n",
      "  end\n",
      "end\n"
     ]
    }
   ],
   "source": [
    "cat ./main.rb"
   ]
  },
  {
   "cell_type": "code",
   "execution_count": 4,
   "metadata": {},
   "outputs": [
    {
     "name": "stdout",
     "output_type": "stream",
     "text": [
      "describe \"くろなつさんについて\" do\n",
      "  it \"その名はくろなつ\"\n",
      "end\n"
     ]
    }
   ],
   "source": [
    "cat ./spec.rb"
   ]
  },
  {
   "cell_type": "code",
   "execution_count": 5,
   "metadata": {},
   "outputs": [
    {
     "name": "stdout",
     "output_type": "stream",
     "text": [
      "\u001b[33m*\u001b[0m\n",
      "\n",
      "Pending: (Failures listed here are expected and do not affect your suite's status)\n",
      "\u001b[33m\n",
      "  1) くろなつさんについて その名はくろなつ\u001b[0m\n",
      "     \u001b[36m# Not yet implemented\u001b[0m\n",
      "\u001b[36m     # ./spec.rb:2\n",
      "\u001b[0m\n",
      "\n",
      "Finished in 0.00186 seconds (files took 0.11436 seconds to load)\n",
      "\u001b[33m1 example, 0 failures, 1 pending\u001b[0m\n",
      "\n"
     ]
    }
   ],
   "source": [
    "rspec ./spec.rb"
   ]
  },
  {
   "cell_type": "markdown",
   "metadata": {},
   "source": [
    "* 未実装のやつはpendingにカウントされる\n",
    "* ここで、テストを書いてみる"
   ]
  },
  {
   "cell_type": "code",
   "execution_count": 10,
   "metadata": {},
   "outputs": [
    {
     "name": "stdout",
     "output_type": "stream",
     "text": [
      "require \"./main\"\n",
      "describe \"くろなつさんについて\" do\n",
      "  it \"その名はくろなつ\" do\n",
      "    k = Kuronat.new\n",
      "    expect(k.name).to eq 'くろなつ'\n",
      "  end\n",
      "end\n"
     ]
    }
   ],
   "source": [
    "cat ./spec.rb"
   ]
  },
  {
   "cell_type": "code",
   "execution_count": 8,
   "metadata": {},
   "outputs": [
    {
     "name": "stdout",
     "output_type": "stream",
     "text": [
      "\u001b[32m.\u001b[0m\n",
      "\n",
      "Finished in 0.00295 seconds (files took 0.09912 seconds to load)\n",
      "\u001b[32m1 example, 0 failures\u001b[0m\n",
      "\n"
     ]
    }
   ],
   "source": [
    "rspec ./spec.rb"
   ]
  },
  {
   "cell_type": "markdown",
   "metadata": {},
   "source": [
    "## テストを増やす"
   ]
  },
  {
   "cell_type": "code",
   "execution_count": 12,
   "metadata": {},
   "outputs": [
    {
     "name": "stdout",
     "output_type": "stream",
     "text": [
      "describe \"くろなつさんについて\" do\n",
      "  it \"挨拶ができる\" do\n",
      "    k = Kuronat.new\n",
      "    expect(k).to respond_to(:greeting)\n",
      "  end\n",
      "end\n"
     ]
    }
   ],
   "source": [
    "cat ./_spec1.rb"
   ]
  },
  {
   "cell_type": "code",
   "execution_count": 11,
   "metadata": {},
   "outputs": [
    {
     "name": "stdout",
     "output_type": "stream",
     "text": [
      "require \"./main\"\n",
      "require \"./_spec1\"\n",
      "describe \"くろなつさんについて\" do\n",
      "  it \"その名はくろなつ\" do\n",
      "    k = Kuronat.new\n",
      "    expect(k.name).to eq 'くろなつ'\n",
      "  end\n",
      "end\n"
     ]
    }
   ],
   "source": [
    "cat ./spec.rb"
   ]
  },
  {
   "cell_type": "code",
   "execution_count": 13,
   "metadata": {},
   "outputs": [
    {
     "name": "stdout",
     "output_type": "stream",
     "text": [
      "\u001b[31mF\u001b[0m\u001b[32m.\u001b[0m\n",
      "\n",
      "Failures:\n",
      "\n",
      "  1) くろなつさんについて 挨拶ができる\n",
      "     \u001b[31mFailure/Error: \u001b[0m\u001b[1;34;4mDEFAULT_FAILURE_NOTIFIER\u001b[0m = lambda { |failure, _opts| raise failure }\u001b[0m\n",
      "     \u001b[31m  expected #<Kuronat:0x007fe8a885eec0> to respond to :greeting\u001b[0m\n",
      "     \u001b[36m# ./_spec1.rb:4:in `block (2 levels) in <top (required)>'\u001b[0m\n",
      "\n",
      "Finished in 0.02146 seconds (files took 0.10213 seconds to load)\n",
      "\u001b[31m2 examples, 1 failure\u001b[0m\n",
      "\n",
      "Failed examples:\n",
      "\n",
      "\u001b[31mrspec \u001b[0m \u001b[36m# くろなつさんについて 挨拶ができる\u001b[0m\n",
      "\n"
     ]
    },
    {
     "ename": "",
     "evalue": "1",
     "output_type": "error",
     "traceback": []
    }
   ],
   "source": [
    "rspec ./spec.rb"
   ]
  },
  {
   "cell_type": "markdown",
   "metadata": {},
   "source": [
    "* 挨拶がまだできないことが、テストが落ちたことでわかる\n",
    "* できるようにする"
   ]
  },
  {
   "cell_type": "code",
   "execution_count": null,
   "metadata": {
    "collapsed": true
   },
   "outputs": [],
   "source": []
  }
 ],
 "metadata": {
  "kernelspec": {
   "display_name": "Bash",
   "language": "bash",
   "name": "bash"
  },
  "language_info": {
   "codemirror_mode": "shell",
   "file_extension": ".sh",
   "mimetype": "text/x-sh",
   "name": "bash"
  }
 },
 "nbformat": 4,
 "nbformat_minor": 2
}
